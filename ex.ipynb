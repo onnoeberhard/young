{
 "cells": [
  {
   "cell_type": "code",
   "execution_count": 1,
   "id": "aee4cb01",
   "metadata": {},
   "outputs": [],
   "source": [
    "from sympy import S, solve, init_printing, simplify"
   ]
  },
  {
   "cell_type": "code",
   "execution_count": 2,
   "id": "12db6e0f",
   "metadata": {},
   "outputs": [],
   "source": [
    "init_printing()"
   ]
  },
  {
   "cell_type": "markdown",
   "id": "3ed4e97e",
   "metadata": {},
   "source": [
    "# Exercise 10.63"
   ]
  },
  {
   "cell_type": "code",
   "execution_count": 3,
   "id": "2c158adf",
   "metadata": {},
   "outputs": [
    {
     "data": {
      "image/png": "[encoded data removed]",
      "text/latex": [
       "$\\displaystyle \\left\\{ T_{A} : \\frac{I_{C} g m_{A} + 2 R^{2} g m_{A} m_{B}}{I_{C} + R^{2} m_{A} + R^{2} m_{B}}, \\  T_{B} : \\frac{I_{C} g m_{B} + 2 R^{2} g m_{A} m_{B}}{I_{C} + R^{2} m_{A} + R^{2} m_{B}}, \\  a_{Ax} : \\frac{- R^{2} g m_{A} + R^{2} g m_{B}}{I_{C} + R^{2} m_{A} + R^{2} m_{B}}, \\  a_{Bx} : \\frac{R^{2} g m_{A} - R^{2} g m_{B}}{I_{C} + R^{2} m_{A} + R^{2} m_{B}}, \\  \\alpha_{z} : \\frac{- R g m_{A} + R g m_{B}}{I_{C} + R^{2} m_{A} + R^{2} m_{B}}\\right\\}$"
      ],
      "text/plain": [
       "⎧                    2                                2                     2 \n",
       "⎪     I_C⋅g⋅m_A + 2⋅R ⋅g⋅m_A⋅m_B       I_C⋅g⋅m_B + 2⋅R ⋅g⋅m_A⋅m_B        - R ⋅\n",
       "⎨T_A: ──────────────────────────, T_B: ──────────────────────────, a_Ax: ─────\n",
       "⎪              2        2                       2        2                    \n",
       "⎩       I_C + R ⋅m_A + R ⋅m_B            I_C + R ⋅m_A + R ⋅m_B           I_C +\n",
       "\n",
       "         2                2          2                                   ⎫\n",
       "g⋅m_A + R ⋅g⋅m_B         R ⋅g⋅m_A - R ⋅g⋅m_B          -R⋅g⋅m_A + R⋅g⋅m_B ⎪\n",
       "────────────────, a_Bx: ─────────────────────, α_z: ─────────────────────⎬\n",
       "  2        2                   2        2                  2        2    ⎪\n",
       " R ⋅m_A + R ⋅m_B        I_C + R ⋅m_A + R ⋅m_B       I_C + R ⋅m_A + R ⋅m_B⎭"
      ]
     },
     "execution_count": 3,
     "metadata": {},
     "output_type": "execute_result"
    }
   ],
   "source": [
    "solve([\n",
    "    \"a_Ax + a_Bx\",\n",
    "    \"-m_A * g + T_A - m_A * a_Ax\",\n",
    "    \"-m_B * g + T_B - m_B * a_Bx\",\n",
    "    \"(T_B - T_A) * R - I_C * alpha_z\",\n",
    "    \"-R * alpha_z + a_Ax\"\n",
    "], [\"a_Ax\", \"a_Bx\", \"alpha_z\", \"T_A\", \"T_B\"])"
   ]
  },
  {
   "cell_type": "markdown",
   "id": "554ada9e",
   "metadata": {},
   "source": [
    "# Exercise 10.79"
   ]
  },
  {
   "cell_type": "code",
   "execution_count": 41,
   "id": "08dc83e7",
   "metadata": {},
   "outputs": [
    {
     "data": {
      "image/png": "[encoded data removed]",
      "text/latex": [
       "$\\displaystyle \\frac{g}{3}$"
      ],
      "text/plain": [
       "g\n",
       "─\n",
       "3"
      ]
     },
     "execution_count": 41,
     "metadata": {},
     "output_type": "execute_result"
    }
   ],
   "source": [
    "solve([\n",
    "    \"M * g - T_1 - M * a_y\",\n",
    "    \"(T_1 - T_2) * R - I_P * alpha_Pz\",\n",
    "    \"1/2 * M * R^2 - I_P\",\n",
    "    \"R * alpha_Pz - a_x\",\n",
    "    \"R * alpha_Pz - a_y\",\n",
    "    \"T_2 + f_x - M * a_x\",\n",
    "    \"2 * R * alpha_Cz - a_x\",\n",
    "    \"-f_x * 2 * R - I_C * alpha_Cz\",\n",
    "    \"1/2 * M * (2 * R)^2 - I_C\",\n",
    "], [\"a_y\", \"a_x\", \"T_1\", \"T_2\", \"I_C\", \"I_P\", \"alpha_Cz\", \"alpha_Pz\", \"f_x\"], dict=True)[0][S(\"a_y\")]"
   ]
  }
 ],
 "metadata": {
  "kernelspec": {
   "display_name": "Python 3 (ipykernel)",
   "language": "python",
   "name": "python3"
  },
  "language_info": {
   "codemirror_mode": {
    "name": "ipython",
    "version": 3
   },
   "file_extension": ".py",
   "mimetype": "text/x-python",
   "name": "python",
   "nbconvert_exporter": "python",
   "pygments_lexer": "ipython3",
   "version": "3.10.4"
  }
 },
 "nbformat": 4,
 "nbformat_minor": 5
}
