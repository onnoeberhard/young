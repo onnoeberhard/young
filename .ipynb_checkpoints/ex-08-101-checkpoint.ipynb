{
 "cells": [
  {
   "cell_type": "code",
   "execution_count": 1,
   "id": "7f538972",
   "metadata": {},
   "outputs": [],
   "source": [
    "import numpy as np\n",
    "import matplotlib.pyplot as plt\n",
    "import pandas as pd\n",
    "from oetils.plotting import init_plotting"
   ]
  },
  {
   "cell_type": "code",
   "execution_count": 2,
   "id": "645732ca",
   "metadata": {},
   "outputs": [],
   "source": [
    "W = init_plotting(latex=True)"
   ]
  },
  {
   "cell_type": "code",
   "execution_count": 3,
   "id": "955db081",
   "metadata": {},
   "outputs": [
    {
     "data": {
      "text/html": [
       "<div>\n",
       "<style scoped>\n",
       "    .dataframe tbody tr th:only-of-type {\n",
       "        vertical-align: middle;\n",
       "    }\n",
       "\n",
       "    .dataframe tbody tr th {\n",
       "        vertical-align: top;\n",
       "    }\n",
       "\n",
       "    .dataframe thead th {\n",
       "        text-align: right;\n",
       "    }\n",
       "</style>\n",
       "<table border=\"1\" class=\"dataframe\">\n",
       "  <thead>\n",
       "    <tr style=\"text-align: right;\">\n",
       "      <th></th>\n",
       "      <th>m</th>\n",
       "      <th>v</th>\n",
       "    </tr>\n",
       "  </thead>\n",
       "  <tbody>\n",
       "    <tr>\n",
       "      <th>A</th>\n",
       "      <td>0.005184</td>\n",
       "      <td>508.1016</td>\n",
       "    </tr>\n",
       "    <tr>\n",
       "      <th>B</th>\n",
       "      <td>0.008100</td>\n",
       "      <td>288.0360</td>\n",
       "    </tr>\n",
       "    <tr>\n",
       "      <th>C</th>\n",
       "      <td>0.015552</td>\n",
       "      <td>259.3848</td>\n",
       "    </tr>\n",
       "    <tr>\n",
       "      <th>D</th>\n",
       "      <td>0.012960</td>\n",
       "      <td>249.6312</td>\n",
       "    </tr>\n",
       "    <tr>\n",
       "      <th>E</th>\n",
       "      <td>0.009072</td>\n",
       "      <td>413.0040</td>\n",
       "    </tr>\n",
       "  </tbody>\n",
       "</table>\n",
       "</div>"
      ],
      "text/plain": [
       "          m         v\n",
       "A  0.005184  508.1016\n",
       "B  0.008100  288.0360\n",
       "C  0.015552  259.3848\n",
       "D  0.012960  249.6312\n",
       "E  0.009072  413.0040"
      ]
     },
     "execution_count": 3,
     "metadata": {},
     "output_type": "execute_result"
    }
   ],
   "source": [
    "data = pd.DataFrame({\n",
    "    'm': [80, 125, 240, 200, 140],\n",
    "    'v': [1667, 945, 851, 819, 1355]\n",
    "}, list('ABCDE'))\n",
    "data.m *= 64.8e-6\n",
    "data.v *= 0.3048\n",
    "data"
   ]
  },
  {
   "cell_type": "code",
   "execution_count": 4,
   "id": "01118b1f",
   "metadata": {},
   "outputs": [
    {
     "name": "stdout",
     "output_type": "stream",
     "text": [
      "Max. compression: C\n",
      "Min. compression: B\n",
      "Necessary k: 69.07\n",
      "Minimal compression: 0.1174\n"
     ]
    }
   ],
   "source": [
    "M = 2\n",
    "mu = 0.38\n",
    "d = 0.25\n",
    "g = 9.81\n",
    "\n",
    "K = 0.5 * data.m**2 / (data.m + M) * data.v**2\n",
    "print(f\"Max. compression: {K.index[K.argmax()]}\")\n",
    "print(f\"Min. compression: {K.index[K.argmin()]}\")\n",
    "\n",
    "k = ((2 * K / d**2) - (2 * mu * (M + data.m) * g / d)).max()\n",
    "print(f\"Necessary k: {k:.2f}\")\n",
    "\n",
    "d = (-mu * (M + data.m) * g + np.sqrt((mu * (M + data.m) * g)**2 + 2*K*k)) / k\n",
    "print(f\"Minimal compression: {d[K.index[K.argmin()]]:.4f}\")"
   ]
  }
 ],
 "metadata": {
  "kernelspec": {
   "display_name": "Python 3 (ipykernel)",
   "language": "python",
   "name": "python3"
  },
  "language_info": {
   "codemirror_mode": {
    "name": "ipython",
    "version": 3
   },
   "file_extension": ".py",
   "mimetype": "text/x-python",
   "name": "python",
   "nbconvert_exporter": "python",
   "pygments_lexer": "ipython3",
   "version": "3.10.4"
  }
 },
 "nbformat": 4,
 "nbformat_minor": 5
}
